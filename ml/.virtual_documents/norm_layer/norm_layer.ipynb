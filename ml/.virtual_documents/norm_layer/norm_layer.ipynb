import torch
import torch.nn as nn
import numpy as np

from PIL import Image
from torchvision.io import read_image
from torchvision.transforms import functional as TVF
from torchvision.utils import make_grid

import matplotlib.pyplot as plt


def viz_img(pt_img):
    plt.imshow(pt_img.permute(1,2,0))
    plt.show()


img_path = "data/shin-chan.jpg"

pt_img = read_image(img_path).float() / 255
viz_img(pt_img)


characters = []
h = 200
w = 190
for i in range(6):
    for j in range(4):
        top = i * h
        left = j * w
        char_img = TVF.crop(pt_img, top, left, h, w)
        char_img = TVF.resize(char_img, [28,28])
        characters.append(char_img)

characters = torch.stack(characters, dim=0) # [B,C,H,W]
print('batch shape:', characters.shape)


all_img = make_grid(characters, nrow=4)
viz_img(all_img)


# BatchNorm:
# over C channels
bn_mean = characters.mean(dim=(0,2,3), keepdim=True)
bn_std = (characters - bn_mean).pow(2).mean(dim=(0,2,3), keepdim=True).sqrt()
bn_img = (characters - bn_mean) / (bn_std.pow(2) + 1e-5).sqrt()

bn = nn.BatchNorm2d(num_features=3, affine=False) # 
bn_img_pt = bn(characters)
print('diff:', torch.linalg.norm((bn_img-bn_img_pt).flatten(2), dim=1).mean())

all_img = make_grid(torch.cat([bn_img, bn_img_pt], dim=-1), nrow=4, normalize=True)
viz_img(all_img)


# LayerNorm
# 
ln_mean = characters.mean(dim=(1,2,3), keepdim=True)
ln_std = (characters - ln_mean).pow(2).mean(dim=(1,2,3), keepdim=True).sqrt()
ln_img = (characters - ln_mean) / (ln_std.pow(2) + 1e-5).sqrt()

B,C,H,W = characters.shape
ln = nn.LayerNorm(normalized_shape=[C,H,W], elementwise_affine=True) 
ln_img_pt = ln(characters)
print('diff:', torch.linalg.norm((ln_img-ln_img_pt).flatten(2), dim=1).mean())
print('learnable shape:', ln.weight.shape)

all_img = make_grid(torch.cat([ln_img, ln_img_pt], dim=-1), nrow=4, normalize=True)
viz_img(all_img)


# GroupNorm
grp_characters = torch.cat([characters]*4, dim=1)
stack_grp_characters = torch.stack(grp_characters.split(3, dim=1), dim=1) # [B, G, C, H, W]
gn_mean = stack_grp_characters.mean(dim=(2,3,4), keepdim=True)
gn_std = (stack_grp_characters - gn_mean).pow(2).mean(dim=(2,3,4), keepdim=True).sqrt()
gn_img = (stack_grp_characters - gn_mean) / (gn_std.pow(2) + 1e-5).sqrt()
gn_img = gn_img.flatten(1,2)

gn = nn.GroupNorm(num_groups=4, num_channels=12, affine=True)
gn_img_pt = gn(grp_characters)
print('diff:', torch.linalg.norm((gn_img-gn_img_pt).flatten(2), dim=1).mean())
print('learnable shape:', gn.weight.shape)

all_img = make_grid(torch.cat([gn_img, gn_img_pt], dim=-1)[:,:3,:,:], nrow=4, normalize=True)
viz_img(all_img)



