{
 "cells": [
  {
   "cell_type": "code",
   "execution_count": 65,
   "id": "3f2f9e25",
   "metadata": {},
   "outputs": [],
   "source": [
    "import numpy as np\n",
    "import mujoco as mj\n",
    "from robot_descriptions.loaders.mujoco import load_robot_description\n",
    "\n",
    "import mediapy as media\n",
    "np.set_printoptions(precision=3, suppress=True)"
   ]
  },
  {
   "cell_type": "code",
   "execution_count": 69,
   "id": "2afde5c6",
   "metadata": {},
   "outputs": [],
   "source": [
    "def render(model, data=None, cam=-1, height=300, option=None):\n",
    "  if data is None:\n",
    "    data = mj.MjData(model)\n",
    "  with mj.Renderer(model, 480, 640) as renderer:\n",
    "    mj.mj_forward(model, data)\n",
    "    renderer.update_scene(data, cam, scene_option=option)\n",
    "    media.show_image(renderer.render(), height=height)"
   ]
  },
  {
   "cell_type": "markdown",
   "id": "5bd3fa33",
   "metadata": {},
   "source": [
    "## Forward kinematics"
   ]
  },
  {
   "cell_type": "markdown",
   "id": "a971b632",
   "metadata": {},
   "source": [
    "FK 前向运动学就是将 `qpos` 映射到笛卡尔空间的位置 `xpos` 和姿态 `xmat`. 在 MuJoCo 里我们通过 `mj_forward(model, data)` 函数来得到 FK 的计算结果. 该函数需要两个参数:\n",
    "- `model: MjModel` - 包含了所有**静态 (时间无关) 模型参数**, 一个良好建模的机械臂都会对 `joint` 添加取值范围, 我们可以通过 `model.jnt_range` 来访问\n",
    "- `data: MjData` - 包含里所有**动态 (时间有关) 模型参数**, `data` 就是一个数据接口 (类似的例子还有 ROS 里的消息接口), 这里面的值需要在运动/动力学计算时用到, 计算完后里面的值会得到更新\n",
    "\n",
    "在 `galaxea_a1/scene.xml` 我们已经定义了一个 `eef` site, 位于执行器末端. 所以教科书上所说的 FK 在这个例子里就表示为 `FK(qpos) = (data.site_xpos, data.site_xmat)`. 类似的, 想要知道任何 kinematic tree 上某点的 FK, 只要提前定义好 body/geom/site, 都可以通过类似的方法得到."
   ]
  },
  {
   "cell_type": "code",
   "execution_count": null,
   "id": "6e2db427",
   "metadata": {},
   "outputs": [],
   "source": [
    "def sample_qpos(model):\n",
    "    range = model.jnt_range # [njnt x 2]\n",
    "    return np.random.uniform(low=range[:,0], high=range[:,1], size=range.shape[0])\n",
    "\n",
    "def sample_ctrl(model):\n",
    "    range = model.actuator_ctrlrange # [nu x 2]\n",
    "    return np.random.uniform(low=range[:,0], high=range[:,1], size=range.shape[0])"
   ]
  },
  {
   "cell_type": "markdown",
   "id": "cde21777",
   "metadata": {},
   "source": [
    "## D-H parameters"
   ]
  },
  {
   "cell_type": "code",
   "execution_count": 78,
   "id": "89d3e02f",
   "metadata": {},
   "outputs": [],
   "source": [
    "from functools import partial\n",
    "\n",
    "def _get_dh2mat_std(q, a, alpha, d, phi, type='r', degree=True):\n",
    "    if type == 'r':\n",
    "        phi += q\n",
    "    elif type == 'p':\n",
    "        d += q\n",
    "\n",
    "    if degree:\n",
    "        phi = np.deg2rad(phi)\n",
    "        alpha = np.deg2rad(alpha)\n",
    "\n",
    "    return np.array([\n",
    "        [np.cos(phi), -np.sin(phi)*np.cos(alpha), np.sin(phi)*np.sin(alpha), a*np.cos(phi)],\n",
    "        [np.sin(phi), np.cos(phi)*np.cos(alpha), -np.cos(phi)*np.sin(alpha), a*np.sin(phi)],\n",
    "        [0, np.sin(alpha), np.cos(alpha), d],\n",
    "        [0, 0, 0, 1]\n",
    "    ])\n",
    "\n",
    "def _get_dh2mat_craig(q, a, alpha, d, phi, type='r', degree=True):\n",
    "    if type == 'r':\n",
    "        phi += q\n",
    "    elif type == 'p':\n",
    "        d += q\n",
    "    \n",
    "    if degree:\n",
    "        phi = np.deg2rad(phi)\n",
    "        alpha = np.deg2rad(alpha)\n",
    "    \n",
    "    return np.array([\n",
    "        [np.cos(phi), -np.sin(phi), 0, a],\n",
    "        [np.sin(phi)*np.cos(alpha), np.cos(phi)*np.cos(alpha), -np.sin(alpha), -d*np.sin(alpha)],\n",
    "        [np.sin(phi)*np.sin(alpha), np.cos(phi)*np.sin(alpha), np.cos(alpha), d*np.cos(alpha)],\n",
    "        [0, 0, 0, 1]\n",
    "    ])\n",
    "\n",
    "def dh2mat(a, alpha, d, phi, type='r', fmt='standard', degree=True):\n",
    "    if fmt == 'standard':\n",
    "        return partial(_get_dh2mat_std, a=a, alpha=alpha, d=d, phi=phi, type=type, degree=degree)\n",
    "    elif fmt == 'craig':\n",
    "        return partial(_get_dh2mat_craig, a=a, alpha=alpha, d=d, phi=phi, type=type, degree=degree)\n",
    "    else:\n",
    "        raise ValueError(f'Unknown format: {fmt}')\n",
    " \n",
    "def mat2dh(mat, fmt='standard', degree=True):\n",
    "    if fmt == 'standard':\n",
    "        a = mat[0,3] / mat[0,0] if mat[0,0] != 0 else mat[1,3] / mat[1,0]\n",
    "        alpha = np.arctan2(mat[2,1], mat[2,2])\n",
    "        d = mat[2,3]\n",
    "        phi = np.arctan2(mat[1,0], mat[0,0])\n",
    "    elif fmt == 'craig':\n",
    "        a = mat[0,3]\n",
    "        alpha = np.arctan2(-mat[1,2], mat[2,2])\n",
    "        d = mat[1,3] / mat[1,2] if mat[1,2] != 0 else mat[2,3] / mat[2,2]\n",
    "        phi = np.arctan2(-mat[0,1], mat[0,0])\n",
    "    else:\n",
    "        raise ValueError(f'Unknown format: {fmt}')\n",
    "    \n",
    "    if degree:\n",
    "        phi = np.rad2deg(phi)\n",
    "        alpha = np.rad2deg(alpha)\n",
    "    return [a, alpha, d, phi]"
   ]
  },
  {
   "cell_type": "code",
   "execution_count": 252,
   "id": "d0ce9c87",
   "metadata": {},
   "outputs": [],
   "source": [
    "class DHTable:\n",
    "    def __init__(self, rows: list[list]=[], fmt='standard', degree=True):\n",
    "        self.rows = rows\n",
    "        self.mats = []\n",
    "        self.fmt = fmt\n",
    "        self.degree = degree\n",
    "        assert self.fmt in ['standard', 'craig']\n",
    "        self.build()\n",
    "    \n",
    "    def build(self):\n",
    "        if self.rows:\n",
    "            for row in self.rows:\n",
    "                assert len(row) == 5, 'Expect a row of 5: a, alpha, d, phi, type'\n",
    "                assert row[-1] in ['r', 'p', 'f']\n",
    "        self.mats.clear()\n",
    "        for row in self.rows:\n",
    "            self.mats.append(dh2mat(*row, fmt=self.fmt, degree=self.degree))\n",
    "    \n",
    "    def fk(self, qs):\n",
    "        assert len(qs) == len(self.mats), f'Number mismatch, expect {len(self.mats)} but got {len(qs)}'\n",
    "        res = self.mats[0](qs[0])\n",
    "        for mat,q in zip(self.mats[1:], qs[1:]):\n",
    "            res = res @ mat(q)\n",
    "        return res\n",
    "    \n",
    "    def __repr__(self):\n",
    "        if self.fmt == 'standard':\n",
    "            info = \"Convention: standard DH\"\n",
    "            header = \"\"\"\n",
    "+---+----------+--------------+--------------+--------------+\n",
    "| i |      a_i |      alpha_i |          d_i |        phi_i |\n",
    "+---+----------+--------------+--------------+--------------+\n",
    "\"\"\"     \n",
    "        elif self.fmt == 'craig':\n",
    "            info = \"Convention: Craig's DH\"\n",
    "            header = \"\"\"\n",
    "+---+----------+--------------+--------------+--------------+\n",
    "| i |  a_{i-1} |  alpha_{i-1} |          d_i |        phi_i |\n",
    "+---+----------+--------------+--------------+--------------+\n",
    "\"\"\"\n",
    "        if self.degree:\n",
    "            info += \" (angle in degrees)\"\n",
    "        cxt = []\n",
    "        for i in range(1, len(self.rows)+1):\n",
    "            a,alpha,d,phi,type = self.rows[i-1]\n",
    "            if type == 'r':\n",
    "                cxt.append(f'| {i} | {a:<8} | {alpha:<12} | {d:<12} | q_{i} + {phi:<6} |')\n",
    "            elif type == 'p':\n",
    "                cxt.append(f'| {i} | {a:<8} | {alpha:<12} | q_{i} + {d:<6} | {phi:<12} |')\n",
    "            else:\n",
    "                cxt.append(f'| {i} | {a:<8} | {alpha:<12} | {d:<12} | {phi:<12} |')\n",
    "        return info + header + '\\n'.join(cxt) + '\\n+---+----------+--------------+--------------+--------------+'"
   ]
  },
  {
   "cell_type": "markdown",
   "id": "517fd4f3",
   "metadata": {},
   "source": [
    "## Exercises"
   ]
  },
  {
   "cell_type": "markdown",
   "id": "dc1c6a09",
   "metadata": {},
   "source": [
    "### PPP arm"
   ]
  },
  {
   "cell_type": "markdown",
   "id": "ce89dd08",
   "metadata": {},
   "source": [
    "PPP arm 的 workspace 是一立方体. 先在 MuJoCo 里建模, 为了和 D-H 对照, 这里在构建 body tree 时采用了 D-H 方法来确定 body frame (Craig's version). "
   ]
  },
  {
   "cell_type": "code",
   "execution_count": 343,
   "id": "b9e20f97",
   "metadata": {},
   "outputs": [
    {
     "data": {
      "text/plain": [
       "<mujoco._specs.MjsLight at 0x74c79286da70>"
      ]
     },
     "execution_count": 343,
     "metadata": {},
     "output_type": "execute_result"
    }
   ],
   "source": [
    "ppp_spec = mj.MjSpec()\n",
    "ppp_spec.compiler.degree = True\n",
    "ppp_spec.visual.scale.framewidth = 0.02\n",
    "\n",
    "L = 0.5 # x/y/z half range\n",
    "red = [0.8,0.2,0.2,1]\n",
    "green = [0.2,0.8,0.2,1]\n",
    "blue = [0.2,0.2,0.8,1]\n",
    "yellow = [0.8,0.8,0.2,1]\n",
    "\n",
    "base = ppp_spec.worldbody.add_body(name='base')\n",
    "base.add_geom(name=\"base\", type=mj.mjtGeom.mjGEOM_BOX, size=[0.05,0.05,L],\n",
    "              euler=[-90,0,0], rgba=green)\n",
    "\n",
    "link1 = base.add_body(name='link1', euler=[-90,0,-90])\n",
    "link1.add_joint(name='q1', type=mj.mjtJoint.mjJNT_SLIDE, axis=[0,0,1], range=[-L,L]) # y-axis\n",
    "link1.add_geom(type=mj.mjtGeom.mjGEOM_BOX, size=[0.1,0.1,0.06], rgba=green)\n",
    "link1.add_geom(type=mj.mjtGeom.mjGEOM_BOX, size=[0.05,0.05,0.5],\n",
    "               pos=[0,L,0], euler=[-90,0,0], rgba=red)\n",
    "\n",
    "link2 = link1.add_body(name='link2', pos=[0,L,0], euler=[-90,0,90])\n",
    "link2.add_joint(name='q2', type=mj.mjtJoint.mjJNT_SLIDE, axis=[0,0,1], range=[-L,L]) # x-axis\n",
    "link2.add_geom(type=mj.mjtGeom.mjGEOM_BOX, size=[0.1,0.1,0.06], rgba=red)\n",
    "link2.add_geom(type=mj.mjtGeom.mjGEOM_BOX, size=[0.05,0.05,L],\n",
    "               pos=[0,-L,0], euler=[90,0,0], rgba=blue)\n",
    "\n",
    "link3 = link2.add_body(name='link3', pos=[0,-L,0], euler=[90,0,0])\n",
    "link3.add_joint(name='q3', type=mj.mjtJoint.mjJNT_SLIDE, axis=[0,0,1], range=[-L,L]) # z-axis\n",
    "link3.add_geom(type=mj.mjtGeom.mjGEOM_BOX, size=[0.1,0.1,0.06], rgba=blue)\n",
    "\n",
    "# eef\n",
    "eef = link3.add_body(name='eef', pos=[0,0.2,0], euler=[-90,0,0])\n",
    "eef.add_site(type=mj.mjtGeom.mjGEOM_BOX, size=[0.05,0.05,0.2], rgba=yellow)\n",
    "\n",
    "# camera and light\n",
    "ppp_spec.worldbody.add_camera(name='side', mode=mj.mjtCamLight.mjCAMLIGHT_TARGETBODY,\n",
    "                              targetbody='eef', pos=[1,-2,1])\n",
    "ppp_spec.worldbody.add_light(pos=[0,0,10], dir=[0,0,-1], directional=True)"
   ]
  },
  {
   "cell_type": "code",
   "execution_count": 344,
   "id": "1bd7a91e",
   "metadata": {},
   "outputs": [],
   "source": [
    "model = ppp_spec.compile()\n",
    "data = mj.MjData(model)"
   ]
  },
  {
   "cell_type": "code",
   "execution_count": null,
   "id": "1c7f8e17",
   "metadata": {},
   "outputs": [
    {
     "name": "stdout",
     "output_type": "stream",
     "text": [
      "qpos: [-0.261  0.122 -0.109]\n"
     ]
    },
    {
     "data": {
      "text/html": [
       "<table class=\"show_images\" style=\"border-spacing:0px;\"><tr><td style=\"padding:1px;\"><img width=\"400\" height=\"300\" style=\"image-rendering:auto; object-fit:cover;\" src=\"data:image/png;base64,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\"/></td></tr></table>"
      ],
      "text/plain": [
       "<IPython.core.display.HTML object>"
      ]
     },
     "metadata": {},
     "output_type": "display_data"
    }
   ],
   "source": [
    "voption = mj.MjvOption()\n",
    "voption.label = mj.mjtLabel.mjLABEL_BODY\n",
    "voption.frame = mj.mjtFrame.mjFRAME_BODY\n",
    "voption.flags[mj.mjtVisFlag.mjVIS_TRANSPARENT] = False\n",
    "\n",
    "data.qpos = sample_qpos(model)\n",
    "print('qpos:', data.qpos)\n",
    "render(model, data, cam=0, option=voption)"
   ]
  },
  {
   "cell_type": "code",
   "execution_count": null,
   "id": "b4f04eba",
   "metadata": {},
   "outputs": [
    {
     "data": {
      "text/plain": [
       "Convention: Craig's DH (angle in degrees)\n",
       "+---+----------+--------------+--------------+--------------+\n",
       "| i |  a_{i-1} |  alpha_{i-1} |          d_i |        phi_i |\n",
       "+---+----------+--------------+--------------+--------------+\n",
       "| 1 | 0        | -90          | q_1 + 0      | -90          |\n",
       "| 2 | 0        | -90          | q_2 + 0.5    | 90           |\n",
       "| 3 | 0        | 90           | q_3 + 0.5    | 0            |\n",
       "| 4 | 0        | -90          | 0.2          | 0            |\n",
       "+---+----------+--------------+--------------+--------------+"
      ]
     },
     "execution_count": 296,
     "metadata": {},
     "output_type": "execute_result"
    }
   ],
   "source": [
    "ppp_dh = DHTable(\n",
    "    [[0,-90,0,-90,'p'], # base to link1\n",
    "     [0,-90,L,90,'p'],  # link1 to link2\n",
    "     [0,90,L,0,'p'],    # link2 to link3\n",
    "     [0,-90,0.2,0,'f']  # link3 to eef (fixed)\n",
    "    ],\n",
    "    fmt='craig',\n",
    "    degree=True\n",
    ")\n",
    "ppp_dh"
   ]
  },
  {
   "cell_type": "code",
   "execution_count": null,
   "id": "36fc6151",
   "metadata": {},
   "outputs": [
    {
     "data": {
      "text/plain": [
       "array([[ 0.   , -0.   ,  1.   ,  0.626],\n",
       "       [-1.   ,  0.   ,  0.   , -0.134],\n",
       "       [-0.   , -1.   , -0.   ,  0.811],\n",
       "       [ 0.   ,  0.   ,  0.   ,  1.   ]])"
      ]
     },
     "execution_count": 297,
     "metadata": {},
     "output_type": "execute_result"
    }
   ],
   "source": [
    "ppp_dh.fk(data.qpos[:].tolist()+[0]) # last joint is fixed"
   ]
  },
  {
   "cell_type": "markdown",
   "id": "5c4bc4e1",
   "metadata": {},
   "source": [
    "检查一下, D-H 得到的 (EE) FK 和 MuJoCo 给出的是一致的."
   ]
  },
  {
   "cell_type": "code",
   "execution_count": 298,
   "id": "5490d586",
   "metadata": {},
   "outputs": [
    {
     "data": {
      "text/plain": [
       "(array([[ 0.,  0.,  1.],\n",
       "        [-1.,  0.,  0.],\n",
       "        [ 0., -1.,  0.]]),\n",
       " array([[ 0.626, -0.134,  0.811]]))"
      ]
     },
     "execution_count": 298,
     "metadata": {},
     "output_type": "execute_result"
    }
   ],
   "source": [
    "data.site_xmat.reshape(3,3), data.site_xpos"
   ]
  },
  {
   "cell_type": "markdown",
   "id": "863d9df5",
   "metadata": {},
   "source": [
    "### Planar RR arm"
   ]
  },
  {
   "cell_type": "code",
   "execution_count": 364,
   "id": "3a02e8e5",
   "metadata": {},
   "outputs": [
    {
     "data": {
      "text/plain": [
       "<mujoco._specs.MjsLight at 0x74c79655cdf0>"
      ]
     },
     "execution_count": 364,
     "metadata": {},
     "output_type": "execute_result"
    }
   ],
   "source": [
    "rr_spec = mj.MjSpec()\n",
    "rr_spec.compiler.degree = True\n",
    "\n",
    "L1 = 1\n",
    "L2 = 1\n",
    "\n",
    "base = rr_spec.worldbody.add_body(name='base')\n",
    "\n",
    "link1 = base.add_body(name='link1')\n",
    "link1.add_joint(name='q1', type=mj.mjtJoint.mjJNT_HINGE, axis=[0,0,1], range=[0,360])\n",
    "link1.add_geom(type=mj.mjtGeom.mjGEOM_CAPSULE, size=[0.05,0,0], fromto=[0,0,0,L1,0,0])\n",
    "\n",
    "link2 = link1.add_body(name='link2', pos=[1,0,0])\n",
    "link2.add_joint(name='q2', type=mj.mjtJoint.mjJNT_HINGE, axis=[0,0,1], range=[0,360])\n",
    "link2.add_geom(type=mj.mjtGeom.mjGEOM_CAPSULE, size=[0.05,0,0], fromto=[0,0,0,L2,0,0])\n",
    "\n",
    "eef = link2.add_body(name='eef', pos=[L2,0,0])\n",
    "eef.add_site(type=mj.mjtGeom.mjGEOM_SPHERE, size=[0.1,0,0], rgba=yellow)\n",
    "\n",
    "# camera and light\n",
    "rr_spec.worldbody.add_camera(name='top', mode=mj.mjtCamLight.mjCAMLIGHT_FIXED,\n",
    "                             pos=[0,0,4], zaxis=[0,0,1])\n",
    "rr_spec.worldbody.add_light(pos=[0,0,10], dir=[0,0,-1], directional=True)"
   ]
  },
  {
   "cell_type": "code",
   "execution_count": 365,
   "id": "70bda631",
   "metadata": {},
   "outputs": [],
   "source": [
    "model = rr_spec.compile()\n",
    "data = mj.MjData(model)"
   ]
  },
  {
   "cell_type": "code",
   "execution_count": null,
   "id": "0513ad8d",
   "metadata": {},
   "outputs": [
    {
     "name": "stdout",
     "output_type": "stream",
     "text": [
      "qpos: [5.481 4.486]\n"
     ]
    },
    {
     "data": {
      "text/html": [
       "<table class=\"show_images\" style=\"border-spacing:0px;\"><tr><td style=\"padding:1px;\"><img width=\"400\" height=\"300\" style=\"image-rendering:auto; object-fit:cover;\" src=\"data:image/png;base64,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\"/></td></tr></table>"
      ],
      "text/plain": [
       "<IPython.core.display.HTML object>"
      ]
     },
     "metadata": {},
     "output_type": "display_data"
    }
   ],
   "source": [
    "voption = mj.MjvOption()\n",
    "voption.label = mj.mjtLabel.mjLABEL_BODY\n",
    "voption.frame = mj.mjtFrame.mjFRAME_BODY\n",
    "voption.flags[mj.mjtVisFlag.mjVIS_TRANSPARENT] = True\n",
    "\n",
    "data.qpos = sample_qpos(model)\n",
    "# 🚨注意到 MuJoCo 内部 (mjModel, mjData) 使用 radians, 即使在 MJCF 定义时用的是 degrees\n",
    "print('qpos:', data.qpos)\n",
    "render(model, data, cam=0, option=voption)"
   ]
  },
  {
   "cell_type": "markdown",
   "id": "d586c046",
   "metadata": {},
   "source": [
    "Standard D-H 建立坐标系在构件的末端, 所以 link2 的坐标系正好和 EEF 重合. 在 MuJoCo 里建模, 习惯默认 body frame 为 joint frame, 在 RR arm 这个例子里和 Craig's D-H 建立的坐标系一致 (一般来讲, 两者不同; MuJoCo 没有规定要如何标定坐标系)."
   ]
  },
  {
   "cell_type": "code",
   "execution_count": 368,
   "id": "973a6597",
   "metadata": {},
   "outputs": [
    {
     "data": {
      "text/plain": [
       "Convention: standard DH\n",
       "+---+----------+--------------+--------------+--------------+\n",
       "| i |      a_i |      alpha_i |          d_i |        phi_i |\n",
       "+---+----------+--------------+--------------+--------------+\n",
       "| 1 | 1        | 0            | 0            | q_1 + 0      |\n",
       "| 2 | 1        | 0            | 0            | q_2 + 0      |\n",
       "+---+----------+--------------+--------------+--------------+"
      ]
     },
     "execution_count": 368,
     "metadata": {},
     "output_type": "execute_result"
    }
   ],
   "source": [
    "rr_dh = DHTable(\n",
    "    [[1, 0, 0, 0, 'r'],  # base to link1\n",
    "     [1, 0, 0, 0, 'r']], # link1 to link2\n",
    "    fmt='standard',\n",
    "    degree=False\n",
    ")\n",
    "rr_dh"
   ]
  },
  {
   "cell_type": "code",
   "execution_count": 369,
   "id": "c7750688",
   "metadata": {},
   "outputs": [
    {
     "data": {
      "text/plain": [
       "array([[-0.857,  0.516,  0.   , -0.161],\n",
       "       [-0.516, -0.857,  0.   , -1.235],\n",
       "       [ 0.   ,  0.   ,  1.   ,  0.   ],\n",
       "       [ 0.   ,  0.   ,  0.   ,  1.   ]])"
      ]
     },
     "execution_count": 369,
     "metadata": {},
     "output_type": "execute_result"
    }
   ],
   "source": [
    "rr_dh.fk(data.qpos[:])"
   ]
  },
  {
   "cell_type": "markdown",
   "id": "4bdae99d",
   "metadata": {},
   "source": [
    "检查一下, D-H 得到的 (EE) FK 和 MuJoCo 给出的是一致的."
   ]
  },
  {
   "cell_type": "code",
   "execution_count": 370,
   "id": "1e9f3f4a",
   "metadata": {},
   "outputs": [
    {
     "data": {
      "text/plain": [
       "(array([[-0.857,  0.516,  0.   ],\n",
       "        [-0.516, -0.857, -0.   ],\n",
       "        [-0.   ,  0.   ,  1.   ]]),\n",
       " array([[-0.161, -1.235,  0.   ]]))"
      ]
     },
     "execution_count": 370,
     "metadata": {},
     "output_type": "execute_result"
    }
   ],
   "source": [
    "data.site_xmat.reshape(3,3), data.site_xpos"
   ]
  },
  {
   "cell_type": "markdown",
   "id": "7d55cde3",
   "metadata": {},
   "source": [
    "### GalaXea A1"
   ]
  },
  {
   "cell_type": "code",
   "execution_count": 70,
   "id": "7e838db7",
   "metadata": {},
   "outputs": [],
   "source": [
    "model = mj.MjModel.from_xml_path('galaxea_a1/scene.xml')"
   ]
  },
  {
   "cell_type": "code",
   "execution_count": null,
   "id": "dee6fb1b",
   "metadata": {},
   "outputs": [],
   "source": [
    "def make_cam_voption():\n",
    "    cam = mj.MjvCamera()\n",
    "    cam.azimuth = 90\n",
    "    cam.elevation =-10\n",
    "    cam.distance = 1.5\n",
    "    cam.lookat = [0,0,0.5]\n",
    "\n",
    "    voption = mj.MjvOption()\n",
    "    voption.label = mj.mjtLabel.mjLABEL_SITE\n",
    "    voption.frame = mj.mjtFrame.mjFRAME_SITE\n",
    "    return cam,voption"
   ]
  },
  {
   "cell_type": "code",
   "execution_count": 72,
   "id": "2e55db53",
   "metadata": {},
   "outputs": [],
   "source": [
    "data = mj.MjData(model) # 从 model 初始化一个 data 数据接口\n",
    "\n",
    "cam,voption = make_cam_voption()"
   ]
  },
  {
   "cell_type": "code",
   "execution_count": 73,
   "id": "4436cb43",
   "metadata": {},
   "outputs": [
    {
     "name": "stdout",
     "output_type": "stream",
     "text": [
      "eef xpos:\n",
      " [ 0.361 -0.231  0.054]\n",
      "eef xmat:\n",
      " [[ 0.662  0.027 -0.749]\n",
      " [-0.704 -0.321 -0.633]\n",
      " [-0.257  0.947 -0.194]]\n"
     ]
    },
    {
     "data": {
      "text/html": [
       "<table class=\"show_images\" style=\"border-spacing:0px;\"><tr><td style=\"padding:1px;\"><img width=\"400\" height=\"300\" style=\"image-rendering:auto; object-fit:cover;\" src=\"data:image/png;base64,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\"/></td></tr></table>"
      ],
      "text/plain": [
       "<IPython.core.display.HTML object>"
      ]
     },
     "metadata": {},
     "output_type": "display_data"
    }
   ],
   "source": [
    "data.qpos[:] = sample_qpos(model) # 在 joint space 里随机采样\n",
    "mj.mj_forward(model, data) # 笛卡尔空间里的物理量都要通过 FK(qpos) 来计算\n",
    "eef_id = mj.mj_name2id(model, mj.mjtObj.mjOBJ_SITE, 'eef') # 当我们有多个 site 时, 通过 id 来访问\n",
    "print('eef xpos:\\n', data.site_xpos[eef_id])\n",
    "print('eef xmat:\\n', data.site_xmat[eef_id].reshape(3,3))\n",
    "\n",
    "render(model, data, cam=cam, option=voption)"
   ]
  },
  {
   "cell_type": "code",
   "execution_count": null,
   "id": "817e6b9d",
   "metadata": {},
   "outputs": [],
   "source": []
  }
 ],
 "metadata": {
  "kernelspec": {
   "display_name": "base",
   "language": "python",
   "name": "python3"
  },
  "language_info": {
   "codemirror_mode": {
    "name": "ipython",
    "version": 3
   },
   "file_extension": ".py",
   "mimetype": "text/x-python",
   "name": "python",
   "nbconvert_exporter": "python",
   "pygments_lexer": "ipython3",
   "version": "3.12.2"
  }
 },
 "nbformat": 4,
 "nbformat_minor": 5
}
